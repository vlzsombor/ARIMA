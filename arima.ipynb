{
 "cells": [
  {
   "cell_type": "code",
   "execution_count": 12,
   "metadata": {},
   "outputs": [
    {
     "name": "stdout",
     "output_type": "stream",
     "text": [
      "Task A: Computing 0+1\n",
      "Time: 0.00\n",
      "Task A: Computing 1+2\n",
      "Time: 1.00\n",
      "Task A: Sum = 3\n",
      "\n",
      "Task B: Computing 0+1\n",
      "Time: 2.01\n",
      "Task B: Computing 1+2\n",
      "Time: 3.01\n",
      "Task B: Computing 3+3\n",
      "Time: 4.01\n",
      "Task B: Sum = 6\n",
      "\n",
      "Time: 5.02 sec\n"
     ]
    },
    {
     "name": "stderr",
     "output_type": "stream",
     "text": [
      "/var/folders/35/vw_j2d_n7kj95gf_rltgld9h0000gn/T/ipykernel_96936/2101677695.py:17: RuntimeWarning: coroutine 'fetch_data' was never awaited\n",
      "  tasks = [\n",
      "RuntimeWarning: Enable tracemalloc to get the object allocation traceback\n"
     ]
    }
   ],
   "source": [
    "import asyncio\n",
    "import time\n",
    "\n",
    "def sleep():\n",
    "    print(f'Time: {time.time() - start:.2f}')\n",
    "    time.sleep(1)\n",
    "\n",
    "def sum(name, numbers):\n",
    "    total = 0\n",
    "    for number in numbers:\n",
    "        print(f'Task {name}: Computing {total}+{number}')\n",
    "        sleep()\n",
    "        total += number\n",
    "    print(f'Task {name}: Sum = {total}\\n')\n",
    "\n",
    "start = time.time()\n",
    "tasks = [\n",
    "    sum(\"A\", [1, 2]),\n",
    "    sum(\"B\", [1, 2, 3]),\n",
    "]\n",
    "end = time.time()\n",
    "print(f'Time: {end-start:.2f} sec')\n",
    "\n",
    "async def sleep():\n",
    "    print(f'Time: {time.time() - start:.2f}')\n",
    "    await asyncio.sleep(1)\n",
    "\n"
   ]
  },
  {
   "cell_type": "code",
   "execution_count": 13,
   "metadata": {},
   "outputs": [
    {
     "name": "stdout",
     "output_type": "stream",
     "text": [
      "Time: 7.24\n"
     ]
    }
   ],
   "source": [
    "await sleep()"
   ]
  }
 ],
 "metadata": {
  "kernelspec": {
   "display_name": "Python 3",
   "language": "python",
   "name": "python3"
  },
  "language_info": {
   "codemirror_mode": {
    "name": "ipython",
    "version": 3
   },
   "file_extension": ".py",
   "mimetype": "text/x-python",
   "name": "python",
   "nbconvert_exporter": "python",
   "pygments_lexer": "ipython3",
   "version": "3.11.10"
  }
 },
 "nbformat": 4,
 "nbformat_minor": 2
}
