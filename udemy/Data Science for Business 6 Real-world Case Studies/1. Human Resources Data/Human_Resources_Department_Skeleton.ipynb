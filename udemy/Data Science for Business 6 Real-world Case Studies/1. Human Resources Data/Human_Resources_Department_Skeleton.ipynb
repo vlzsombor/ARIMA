{
 "cells": [
  {
   "cell_type": "markdown",
   "metadata": {
    "id": "M27qF7CTrBqc"
   },
   "source": [
    "# TASK #1: UNDERSTAND THE PROBLEM STATEMENT AND BUSINESS CASE"
   ]
  },
  {
   "cell_type": "markdown",
   "metadata": {
    "id": "Z2ZMlH-gtOxf"
   },
   "source": [
    "\n",
    "<table>\n",
    "  <tr><td>\n",
    "    <img src=\"https://drive.google.com/uc?id=1yJKgmHrRFnBk987HJfeDrMcTEXtk0z7W\"\n",
    "         alt=\"Fashion MNIST sprite\"  width=\"1000\">\n",
    "  </td></tr>\n",
    "  <tr><td align=\"center\">\n",
    "    <b>Figure 1. Employee Retention Prediction\n",
    "  </td></tr>\n",
    "</table>\n"
   ]
  },
  {
   "cell_type": "markdown",
   "metadata": {
    "id": "xNl52nl3qiyL"
   },
   "source": [
    "\n",
    "![alt text](https://drive.google.com/uc?id=10NJUOTWOBzp2MNkgcPpCF0fLtdoN_jKj)"
   ]
  },
  {
   "cell_type": "markdown",
   "metadata": {},
   "source": []
  },
  {
   "cell_type": "markdown",
   "metadata": {
    "id": "qANsbnOpp6Ft"
   },
   "source": [
    "![alt text](https://drive.google.com/uc?id=1evbDHoW2t0emxkbQd8yevYFZ5woJKRPY)"
   ]
  },
  {
   "cell_type": "markdown",
   "metadata": {
    "id": "ladNLq1WqDY6"
   },
   "source": [
    "![alt text](https://drive.google.com/uc?id=1Mk2H7VYfv6ijUS9XqEdBQV6_LaHiyvkJ)"
   ]
  },
  {
   "cell_type": "markdown",
   "metadata": {
    "id": "uAE6Icc0uylP"
   },
   "source": [
    "# TASK #2: IMPORT LIBRARIES AND DATASETS"
   ]
  },
  {
   "cell_type": "code",
   "execution_count": 1,
   "metadata": {
    "id": "YBp2qDPb8pDo"
   },
   "outputs": [],
   "source": [
    "import pandas as pd\n",
    "import numpy as np\n",
    "import seaborn as sns\n",
    "import matplotlib.pyplot as plt"
   ]
  },
  {
   "cell_type": "code",
   "execution_count": 2,
   "metadata": {
    "id": "5P_ciLXawMZg"
   },
   "outputs": [],
   "source": [
    "# # You will need to mount your drive using the following commands:\n",
    "# # For more information regarding mounting, please check this out: https://stackoverflow.com/questions/46986398/import-data-into-google-colaboratory\n",
    "\n",
    "# from google.colab import drive\n",
    "# drive.mount('/content/drive')"
   ]
  },
  {
   "cell_type": "code",
   "execution_count": 3,
   "metadata": {
    "id": "tjIiJdM4u1IE"
   },
   "outputs": [],
   "source": [
    "# You have to include the full link to the csv file containing your dataset\n",
    "employee_df =pd.read_csv('Human_Resources.csv')"
   ]
  },
  {
   "cell_type": "code",
   "execution_count": null,
   "metadata": {
    "id": "q4_wPDKCu5Uc"
   },
   "outputs": [],
   "source": [
    "employee_df.columns\n",
    "employee_df.Over18\n",
    "\n",
    "\n",
    "employee_df.head()\n",
    "\n",
    "int_count = employee_df.dtypes[employee_df.dtypes=='int64'].count()\n",
    "age_mean = employee_df.Age.mean()\n",
    "\n",
    "print(f\"int_count {int_count} age_mean {age_mean}\")"
   ]
  },
  {
   "cell_type": "code",
   "execution_count": null,
   "metadata": {},
   "outputs": [],
   "source": [
    "employee_df.describe()"
   ]
  },
  {
   "cell_type": "code",
   "execution_count": null,
   "metadata": {},
   "outputs": [],
   "source": []
  },
  {
   "cell_type": "code",
   "execution_count": null,
   "metadata": {
    "id": "E7puy9-xxS4A"
   },
   "outputs": [],
   "source": []
  },
  {
   "cell_type": "code",
   "execution_count": null,
   "metadata": {
    "id": "RUt2ON_UxyYk"
   },
   "outputs": [],
   "source": []
  },
  {
   "cell_type": "code",
   "execution_count": 6,
   "metadata": {
    "id": "hMq3-KWOx0e1"
   },
   "outputs": [],
   "source": [
    "# 35 features in total, each contains 1470 data points"
   ]
  },
  {
   "cell_type": "code",
   "execution_count": null,
   "metadata": {
    "id": "s0E9xPLdx2Ok"
   },
   "outputs": [],
   "source": [
    "employee_df.columns"
   ]
  },
  {
   "cell_type": "markdown",
   "metadata": {
    "id": "LlszUhNNyrl_"
   },
   "source": [
    "# TASK #3: VISUALIZE DATASET"
   ]
  },
  {
   "cell_type": "code",
   "execution_count": 8,
   "metadata": {
    "id": "ZiVkQqEPMDDD"
   },
   "outputs": [],
   "source": [
    "# Let's replace 'Attritition' , 'overtime' , 'Over18' column with integers before performing any visualizations\n",
    "employee_df['Attrition'] = employee_df['Attrition'].apply(lambda x: 1 if x == 'Yes' else 0)\n",
    "employee_df.OverTime = employee_df.OverTime.apply(lambda x: 1 if x == 'Yes' else 0)\n",
    "employee_df.Over18 = employee_df.Over18.apply(lambda x: 1 if x == 'Y' else 0)\n"
   ]
  },
  {
   "cell_type": "code",
   "execution_count": null,
   "metadata": {
    "id": "RYLqq7WetK79"
   },
   "outputs": [],
   "source": [
    "employee_df.Over18"
   ]
  },
  {
   "cell_type": "code",
   "execution_count": null,
   "metadata": {
    "id": "ICj3NLbqqmve"
   },
   "outputs": [],
   "source": [
    "# Let's see if we have any missing data, luckily we don't!\n",
    "sns.heatmap(employee_df.isnull(), yticklabels = False, cbar = False, cmap=\"Blues\")\n"
   ]
  },
  {
   "cell_type": "code",
   "execution_count": null,
   "metadata": {
    "id": "V3BgiFBrv2NK"
   },
   "outputs": [],
   "source": [
    "# Several features such as 'MonthlyIncome' and 'TotalWorkingYears' are tail heavy\n",
    "# It makes sense to drop 'EmployeeCount' and 'Standardhours' since they do not change from one employee to the other\n",
    "\n",
    "employee_df.hist(bins=30, figsize= (20,20), color = 'r')"
   ]
  },
  {
   "cell_type": "code",
   "execution_count": 12,
   "metadata": {},
   "outputs": [],
   "source": [
    "employee_df.drop(['EmployeeCount', 'Over18', 'StandardHours', 'EmployeeNumber'], axis=1, inplace=True)"
   ]
  },
  {
   "cell_type": "code",
   "execution_count": 13,
   "metadata": {
    "id": "BfDQRuNj4_b8"
   },
   "outputs": [],
   "source": [
    "# It makes sense to drop 'EmployeeCount' , 'Standardhours' and 'Over18' since they do not change from one employee to the other\n",
    "# Let's drop 'EmployeeNumber' as well\n"
   ]
  },
  {
   "cell_type": "code",
   "execution_count": null,
   "metadata": {
    "id": "-5qvu70o5oAI"
   },
   "outputs": [],
   "source": [
    "# Let's see how many employees left the company!\n",
    "left_df = employee_df[employee_df.Attrition == 1]\n",
    "stayed_df = employee_df[employee_df.Attrition == 0]\n",
    "\n",
    "\n",
    "print('Total = ', len(employee_df))\n",
    "print('Number of employees who left = ', len(left_df))\n",
    "print('Percentage = ', len(left_df)/len(employee_df))"
   ]
  },
  {
   "cell_type": "code",
   "execution_count": 15,
   "metadata": {
    "id": "uBDltyUy5o1L"
   },
   "outputs": [],
   "source": [
    "# Count the number of employees who stayed and left\n",
    "# It seems that we are dealing with an imbalanced dataset\n"
   ]
  },
  {
   "cell_type": "code",
   "execution_count": null,
   "metadata": {
    "id": "B5SXd3txxv7V"
   },
   "outputs": [],
   "source": [
    "left_df.describe(include='all')\n",
    "\n",
    "#  Let's compare the mean and std of the employees who stayed and left\n",
    "# 'age': mean age of the employees who stayed is higher compared to who left\n",
    "# 'DailyRate': Rate of employees who stayed is higher\n",
    "# 'DistanceFromHome': Employees who stayed live closer to home\n",
    "# 'EnvironmentSatisfaction' & 'JobSatisfaction': Employees who stayed are generally more satisifed with their jobs\n",
    "# 'StockOptionLevel': Employees who stayed tend to have higher stock option level"
   ]
  },
  {
   "cell_type": "code",
   "execution_count": null,
   "metadata": {
    "id": "nPPQHIxyx7YZ"
   },
   "outputs": [],
   "source": [
    "stayed_df.describe(include='all')"
   ]
  },
  {
   "cell_type": "markdown",
   "metadata": {},
   "source": [
    "The average age by people who left the company is lower compared to the people who stayed.\n"
   ]
  },
  {
   "cell_type": "code",
   "execution_count": null,
   "metadata": {},
   "outputs": [],
   "source": [
    "employee_df['Department']"
   ]
  },
  {
   "cell_type": "code",
   "execution_count": null,
   "metadata": {
    "id": "c6UiAqTkKD85"
   },
   "outputs": [],
   "source": [
    "\n",
    "\n",
    "correlations = employee_df.corr(numeric_only=True)\n",
    "f, ax = plt.subplots(figsize = (20, 20))\n",
    "sns.heatmap(correlations, annot = True)\n",
    "# employee_df.col"
   ]
  },
  {
   "cell_type": "code",
   "execution_count": null,
   "metadata": {},
   "outputs": [],
   "source": [
    "plt.figure(figsize=[25, 12])\n",
    "sns.countplot(x = 'Age', hue='Attrition', data = employee_df)\n",
    "plt.title('Age/people count differentiated by attrition', fontdict = {'fontsize' : 25})\n",
    "plt.xlabel('Age')\n",
    "plt.ylabel('Count of people')"
   ]
  },
  {
   "cell_type": "code",
   "execution_count": null,
   "metadata": {},
   "outputs": [],
   "source": [
    "import matplotlib.pyplot as plt\n",
    "import seaborn as sns\n",
    "\n",
    "# Create the figure and plot\n",
    "plt.figure(figsize=[25, 12])\n",
    "ax = sns.countplot(x='Age', hue='Attrition', data=employee_df)\n",
    "\n",
    "# Add numbers on top of the bars (count of True/False)\n",
    "for p in ax.patches:\n",
    "    # Get the height of each bar (the count)\n",
    "    count = int(p.get_height())\n",
    "    # Add the count above each bar\n",
    "    ax.annotate(f'{count}', \n",
    "                (p.get_x() + p.get_width() / 2., p.get_height()), \n",
    "                ha='center', va='baseline', fontsize=12, color='black', xytext=(0, 5), \n",
    "                textcoords='offset points')\n",
    "\n",
    "# Display the plot\n",
    "plt.show()\n"
   ]
  },
  {
   "cell_type": "code",
   "execution_count": null,
   "metadata": {},
   "outputs": [],
   "source": [
    "plt.figure(figsize = [20,20])\n",
    "\n",
    "plt.subplot(411)\n",
    "sns.countplot(x='JobRole', hue = 'Attrition', data = employee_df)\n",
    "plt.subplot(412)\n",
    "sns.countplot(x='MaritalStatus', hue = 'Attrition', data = employee_df)\n",
    "plt.subplot(413)\n",
    "sns.countplot(x='JobInvolvement', hue = 'Attrition', data = employee_df)\n",
    "plt.subplot(414)\n",
    "sns.countplot(x='JobLevel', hue = 'Attrition', data = employee_df)\n",
    "\n",
    "\n",
    "\n",
    "\n",
    "# Single employees tend to leave compared to married and divorced\n",
    "# Sales Representitives tend to leave compared to any other job \n",
    "# Less involved employees tend to leave the company \n",
    "# Less experienced (low job level) tend to leave the company "
   ]
  },
  {
   "cell_type": "code",
   "execution_count": null,
   "metadata": {},
   "outputs": [],
   "source": [
    "plt.figure(figsize=[20,20])\n",
    "plt.subplot(411)\n",
    "sns.countplot(x = 'JobRole', hue = 'Attrition', data = employee_df)\n",
    "plt.subplot(412)\n",
    "sns.countplot(x = 'MaritalStatus', hue = 'Attrition', data = employee_df)\n",
    "\n",
    "# Single employees tend to leave compared to married and divorced\n",
    "# Sales Representitives tend to leave compared to any other job \n",
    "# Less involved employees tend to leave the company \n",
    "# Less experienced (low job level) tend to leave the company "
   ]
  },
  {
   "cell_type": "code",
   "execution_count": null,
   "metadata": {},
   "outputs": [],
   "source": [
    "plt.figure(figsize=[20,20])\n",
    "\n",
    "plt.subplot(413)\n",
    "sns.countplot(x = 'JobInvolvement', hue = 'Attrition', data = employee_df)\n",
    "plt.subplot(414)\n",
    "sns.countplot(x = 'JobLevel', hue = 'Attrition', data = employee_df)\n"
   ]
  },
  {
   "cell_type": "code",
   "execution_count": null,
   "metadata": {},
   "outputs": [],
   "source": [
    "plt.figure(figsize= (12, 7))\n",
    "\n",
    "sns.kdeplot(left_df['DistanceFromHome'], label = 'Employees who left', fill = True, color = 'r', legend=True)\n",
    "sns.kdeplot(stayed_df['DistanceFromHome'], label = 'Employees who stayed', fill = True, color = 'b', legend=True)\n",
    "plt.legend(title= \"Species\", loc= \"upper right\")\n",
    "\n",
    "plt.xlabel('Distance From Home')"
   ]
  },
  {
   "cell_type": "code",
   "execution_count": 26,
   "metadata": {},
   "outputs": [],
   "source": [
    "import warnings\n",
    "warnings.filterwarnings('once')"
   ]
  },
  {
   "cell_type": "code",
   "execution_count": null,
   "metadata": {},
   "outputs": [],
   "source": [
    "# Years current manager\n",
    "# Total working years\n",
    "\n",
    "# sns.kdeplot()\n",
    "\n",
    "sns.kdeplot(left_df['TotalWorkingYears'],label = 'Employees who left', fill = True, color = 'r', legend=True)\n",
    "sns.kdeplot(stayed_df['TotalWorkingYears'], label = 'Employees who stayed', fill = True, color = 'b', legend=True)\n",
    "plt.legend(title= \"Species\", loc= \"upper right\")\n",
    "\n",
    "plt.xlabel('Total Working Years')"
   ]
  },
  {
   "cell_type": "code",
   "execution_count": null,
   "metadata": {},
   "outputs": [],
   "source": [
    "sns.kdeplot(left_df['YearsWithCurrManager'],label = 'Employees who left', fill = True, color = 'r', legend=True)\n",
    "sns.kdeplot(stayed_df['YearsWithCurrManager'], label = 'Employees who stayed', fill = True, color = 'b', legend=True)\n",
    "plt.legend(loc= \"upper right\")\n",
    "plt.xlabel(\"Years with current manager\")"
   ]
  },
  {
   "cell_type": "code",
   "execution_count": null,
   "metadata": {},
   "outputs": [],
   "source": []
  },
  {
   "cell_type": "code",
   "execution_count": null,
   "metadata": {
    "id": "zBy4m89a08Sj"
   },
   "outputs": [],
   "source": [
    "sns.boxplot(x = 'MonthlyIncome', y = 'Gender', data = employee_df)\n",
    "\n",
    "# Job level is strongly correlated with total working hours\n",
    "# Monthly income is strongly correlated with Job level\n",
    "# Monthly income is strongly correlated with total working hours\n",
    "# Age is stongly correlated with monthly income\n"
   ]
  },
  {
   "cell_type": "code",
   "execution_count": null,
   "metadata": {},
   "outputs": [],
   "source": [
    "plt.figure(figsize= (10,15))\n",
    "sns.boxplot(x = 'MonthlyIncome', y = 'Gender', data = employee_df)"
   ]
  },
  {
   "cell_type": "code",
   "execution_count": null,
   "metadata": {
    "id": "btcWqUnfPcxW"
   },
   "outputs": [],
   "source": [
    "plt.figure(figsize=(15,10))\n",
    "sns.boxplot(x = 'MonthlyIncome', y = 'JobRole', data = employee_df)\n",
    "\n"
   ]
  },
  {
   "cell_type": "code",
   "execution_count": null,
   "metadata": {},
   "outputs": [],
   "source": []
  },
  {
   "cell_type": "code",
   "execution_count": 32,
   "metadata": {
    "id": "jpJtiorsjgfI"
   },
   "outputs": [],
   "source": [
    "\n",
    "\n",
    "# Single employees tend to leave compared to married and divorced\n",
    "# Sales Representitives tend to leave compared to any other job\n",
    "# Less involved employees tend to leave the company\n",
    "# Less experienced (low job level) tend to leave the company"
   ]
  },
  {
   "cell_type": "code",
   "execution_count": null,
   "metadata": {
    "id": "gzAo8L5ybDs7"
   },
   "outputs": [],
   "source": [
    "\n"
   ]
  },
  {
   "cell_type": "code",
   "execution_count": null,
   "metadata": {
    "id": "U0cw6asrgZFh"
   },
   "outputs": [],
   "source": []
  },
  {
   "cell_type": "code",
   "execution_count": null,
   "metadata": {
    "id": "fQDpsZXqfygG"
   },
   "outputs": [],
   "source": [
    "\n"
   ]
  },
  {
   "cell_type": "code",
   "execution_count": 33,
   "metadata": {
    "id": "d-iOYim7Pcpr"
   },
   "outputs": [],
   "source": [
    "# Let's see the Gender vs. Monthly Income\n"
   ]
  },
  {
   "cell_type": "code",
   "execution_count": 34,
   "metadata": {
    "id": "Dsd9DB9rby-3"
   },
   "outputs": [],
   "source": [
    "# Let's see the Gender vs. Monthly Income\n"
   ]
  },
  {
   "cell_type": "markdown",
   "metadata": {
    "id": "Y0GmpAjG3GiH"
   },
   "source": [
    "# TASK #4: CREATE TESTING AND TRAINING DATASET & PERFORM DATA CLEANING"
   ]
  },
  {
   "cell_type": "code",
   "execution_count": null,
   "metadata": {
    "id": "FK5ggiVPsJE9"
   },
   "outputs": [],
   "source": [
    "employee_df.head()"
   ]
  },
  {
   "cell_type": "code",
   "execution_count": null,
   "metadata": {
    "id": "1_nb-D8H3cK-"
   },
   "outputs": [],
   "source": [
    "X_cat = employee_df[['BusinessTravel', 'Department', 'Gender', 'JobRole', 'MaritalStatus']] # categorical\n",
    "X_numerical = employee_df[['Age', 'DailyRate', 'DistanceFromHome',\t'Education', 'EnvironmentSatisfaction', 'HourlyRate', 'JobInvolvement',\t'JobLevel',\t'JobSatisfaction',\t'MonthlyIncome',\t'MonthlyRate',\t'NumCompaniesWorked',\t'OverTime',\t'PercentSalaryHike', 'PerformanceRating',\t'RelationshipSatisfaction',\t'StockOptionLevel',\t'TotalWorkingYears'\t,'TrainingTimesLastYear'\t, 'WorkLifeBalance',\t'YearsAtCompany'\t,'YearsInCurrentRole', 'YearsSinceLastPromotion',\t'YearsWithCurrManager']]\n",
    "X_numerical\n",
    "\n",
    "X_cat"
   ]
  },
  {
   "cell_type": "code",
   "execution_count": 37,
   "metadata": {
    "id": "qwzY8rj0uV-a"
   },
   "outputs": [],
   "source": [
    "from sklearn.preprocessing import OneHotEncoder\n",
    "\n",
    "onehotencoder = OneHotEncoder()\n",
    "\n",
    "X_cat = onehotencoder.fit_transform(X_cat).toarray()"
   ]
  },
  {
   "cell_type": "code",
   "execution_count": null,
   "metadata": {},
   "outputs": [],
   "source": [
    "X_cat_df = pd.DataFrame(X_cat)\n",
    "X_all = pd.concat([X_cat_df, X_numerical], axis=1)\n",
    "X_all\n"
   ]
  },
  {
   "cell_type": "code",
   "execution_count": 39,
   "metadata": {},
   "outputs": [],
   "source": [
    "from sklearn.preprocessing import MinMaxScaler\n",
    "scaler = MinMaxScaler()\n",
    "X_all.columns = X_all.columns.astype(str)\n",
    "X = scaler.fit_transform(X_all)"
   ]
  },
  {
   "cell_type": "code",
   "execution_count": null,
   "metadata": {},
   "outputs": [],
   "source": [
    "y = employee_df['Attrition']\n",
    "y"
   ]
  },
  {
   "cell_type": "code",
   "execution_count": 41,
   "metadata": {},
   "outputs": [],
   "source": [
    "from sklearn.model_selection import train_test_split\n",
    "\n",
    "X_train, X_text, y_train, y_test = train_test_split(X, y, test_size = 0.25)"
   ]
  },
  {
   "cell_type": "code",
   "execution_count": null,
   "metadata": {
    "id": "dMjFQDQzucrh"
   },
   "outputs": [],
   "source": [
    "X_cat.shape"
   ]
  },
  {
   "cell_type": "code",
   "execution_count": 43,
   "metadata": {
    "id": "nWRIDQWquc2m"
   },
   "outputs": [],
   "source": [
    "X_cat = pd.DataFrame(X_cat)"
   ]
  },
  {
   "cell_type": "code",
   "execution_count": null,
   "metadata": {},
   "outputs": [],
   "source": [
    "X_cat"
   ]
  },
  {
   "cell_type": "code",
   "execution_count": null,
   "metadata": {
    "id": "3sc6kz_oucxq"
   },
   "outputs": [],
   "source": []
  },
  {
   "cell_type": "code",
   "execution_count": 45,
   "metadata": {
    "id": "_2iF77wCu79A"
   },
   "outputs": [],
   "source": [
    "# note that we dropped the target 'Atrittion'\n",
    "X_numerical = employee_df[['Age', 'DailyRate', 'DistanceFromHome',\t'Education', 'EnvironmentSatisfaction', 'HourlyRate', 'JobInvolvement',\t'JobLevel',\t'JobSatisfaction',\t'MonthlyIncome',\t'MonthlyRate',\t'NumCompaniesWorked',\t'OverTime',\t'PercentSalaryHike', 'PerformanceRating',\t'RelationshipSatisfaction',\t'StockOptionLevel',\t'TotalWorkingYears'\t,'TrainingTimesLastYear'\t, 'WorkLifeBalance',\t'YearsAtCompany'\t,'YearsInCurrentRole', 'YearsSinceLastPromotion',\t'YearsWithCurrManager']]\n"
   ]
  },
  {
   "cell_type": "code",
   "execution_count": 46,
   "metadata": {
    "id": "7EucHJDH0wf0"
   },
   "outputs": [],
   "source": [
    "X_all = pd.concat([X_cat, X_numerical], axis= 1)\n"
   ]
  },
  {
   "cell_type": "code",
   "execution_count": null,
   "metadata": {
    "id": "uZxWTuLp0wdW"
   },
   "outputs": [],
   "source": [
    "X_all"
   ]
  },
  {
   "cell_type": "code",
   "execution_count": 48,
   "metadata": {
    "id": "Wf_G8A_G1l2c"
   },
   "outputs": [],
   "source": [
    "from sklearn.preprocessing import MinMaxScaler\n",
    "scaler = MinMaxScaler()\n",
    "\n",
    "\n",
    "X_all.columns = X_all.columns.astype(str)\n",
    "X = scaler.fit_transform(X_all)\n"
   ]
  },
  {
   "cell_type": "code",
   "execution_count": 49,
   "metadata": {
    "id": "ASEus5N81Zq8"
   },
   "outputs": [],
   "source": [
    "from sklearn.model_selection import train_test_split\n",
    "X_train, X_test, y_train, y_test = train_test_split(X, y, test_size = 0.25)"
   ]
  },
  {
   "cell_type": "code",
   "execution_count": 50,
   "metadata": {},
   "outputs": [],
   "source": [
    "from sklearn.linear_model import LogisticRegression\n",
    "from sklearn.metrics import accuracy_score\n",
    "\n"
   ]
  },
  {
   "cell_type": "code",
   "execution_count": null,
   "metadata": {},
   "outputs": [],
   "source": [
    "model = LogisticRegression()\n",
    "model.fit(X_train, y_train)"
   ]
  },
  {
   "cell_type": "code",
   "execution_count": 52,
   "metadata": {},
   "outputs": [],
   "source": [
    "y_pred = model.predict(X_test)"
   ]
  },
  {
   "cell_type": "code",
   "execution_count": null,
   "metadata": {},
   "outputs": [],
   "source": [
    "y_pred"
   ]
  },
  {
   "cell_type": "code",
   "execution_count": null,
   "metadata": {},
   "outputs": [],
   "source": [
    "from sklearn.metrics import confusion_matrix, classification_report\n",
    "print('Accuracy {} %'.format(100*accuracy_score(y_pred, y_test)))\n"
   ]
  },
  {
   "cell_type": "code",
   "execution_count": null,
   "metadata": {},
   "outputs": [],
   "source": [
    "import sys\n",
    "sys.executable"
   ]
  },
  {
   "cell_type": "code",
   "execution_count": null,
   "metadata": {},
   "outputs": [],
   "source": [
    "cm = confusion_matrix(y_pred, y_test)\n",
    "sns.heatmap(cm, annot = True)"
   ]
  },
  {
   "cell_type": "code",
   "execution_count": null,
   "metadata": {},
   "outputs": [],
   "source": [
    "print(classification_report(y_test, y_pred))"
   ]
  },
  {
   "cell_type": "markdown",
   "metadata": {
    "id": "2geMzGITbZPJ"
   },
   "source": [
    "# TASK #5: UNDERSTAND THE INTUITION BEHIND LOGISTIC REGRESSION CLASSIFIERS, ARTIFICIAL NEURAL NETWORKS, AND RANDOM FOREST CLASSIFIER"
   ]
  },
  {
   "cell_type": "markdown",
   "metadata": {
    "id": "2LGXlsW-qY6T"
   },
   "source": [
    "![alt text](https://drive.google.com/uc?id=19DpnhFkfsNEDPlH1dkfdr1zO36vRcBit)"
   ]
  },
  {
   "cell_type": "markdown",
   "metadata": {
    "id": "RAhjTl8rqfEP"
   },
   "source": [
    "![alt text](https://drive.google.com/uc?id=1J03xZf6OiYtGV3IgJBUURBWyScpvaAbU)"
   ]
  },
  {
   "cell_type": "markdown",
   "metadata": {
    "id": "BSf1ttexqoAy"
   },
   "source": [
    "![alt text](https://drive.google.com/uc?id=1WNsznVn7je5r9HGnSLLdABICxrIv2Mrs)"
   ]
  },
  {
   "cell_type": "markdown",
   "metadata": {
    "id": "mEyfNrkaqxLi"
   },
   "source": [
    "![alt text](https://drive.google.com/uc?id=1bX5uGmy5vbYTlp7m4tw_V2kTNzAHpHLp)"
   ]
  },
  {
   "cell_type": "markdown",
   "metadata": {
    "id": "FfBciHaVq2i8"
   },
   "source": [
    "![alt text](https://drive.google.com/uc?id=1ztrMNehNYWMw6NwhOOC9BDBdnoNirpqZ)"
   ]
  },
  {
   "cell_type": "markdown",
   "metadata": {
    "id": "lweiI-Krrfvc"
   },
   "source": [
    "# TASK #6: UNDERSTAND HOW TO ASSESS CLASSIFICATION MODELS"
   ]
  },
  {
   "cell_type": "markdown",
   "metadata": {
    "id": "FbyUpOKkrCxV"
   },
   "source": [
    "![alt text](https://drive.google.com/uc?id=1OZLbKm1AJSyvoBgfvlfcLIWZxLOvzOWq)"
   ]
  },
  {
   "cell_type": "markdown",
   "metadata": {
    "id": "O4E1szzdrMpA"
   },
   "source": [
    "![alt text](https://drive.google.com/uc?id=11pNdVw4oWeNOWrkadrrxon7FU4qO5m6U)"
   ]
  },
  {
   "cell_type": "markdown",
   "metadata": {
    "id": "hXpQYgD0uCBj"
   },
   "source": [
    "![alt text](https://drive.google.com/uc?id=1Bk1xFW2tGBdwg-njOhw79MxtYBQnK-6x)"
   ]
  },
  {
   "cell_type": "markdown",
   "metadata": {
    "id": "mDlTGjekuF4I"
   },
   "source": [
    "![alt text](https://drive.google.com/uc?id=19cXoBqSiqbEGNofnD603bz3xEAsX28hy)"
   ]
  },
  {
   "cell_type": "markdown",
   "metadata": {
    "id": "otudfveOME9P"
   },
   "source": [
    "# TASK #7: TRAIN AND EVALUATE A LOGISTIC REGRESSION CLASSIFIER"
   ]
  },
  {
   "cell_type": "code",
   "execution_count": null,
   "metadata": {
    "id": "RgFq3h993cIz"
   },
   "outputs": [],
   "source": []
  },
  {
   "cell_type": "code",
   "execution_count": null,
   "metadata": {
    "id": "DqIp8uvJ3cGi"
   },
   "outputs": [],
   "source": []
  },
  {
   "cell_type": "code",
   "execution_count": null,
   "metadata": {
    "id": "d4wfApza3cEc"
   },
   "outputs": [],
   "source": []
  },
  {
   "cell_type": "code",
   "execution_count": null,
   "metadata": {
    "id": "f-yF03L-MMz0"
   },
   "outputs": [],
   "source": []
  },
  {
   "cell_type": "code",
   "execution_count": null,
   "metadata": {
    "id": "jDj4uNvjNWkK"
   },
   "outputs": [],
   "source": []
  },
  {
   "cell_type": "code",
   "execution_count": null,
   "metadata": {
    "id": "7mlqam98MgCG"
   },
   "outputs": [],
   "source": []
  },
  {
   "cell_type": "code",
   "execution_count": 58,
   "metadata": {
    "id": "OSfFqmKHNuJe"
   },
   "outputs": [],
   "source": [
    "# Testing Set Performance\n"
   ]
  },
  {
   "cell_type": "code",
   "execution_count": null,
   "metadata": {
    "id": "tussFqBMNxZX"
   },
   "outputs": [],
   "source": []
  },
  {
   "cell_type": "markdown",
   "metadata": {
    "id": "o0LevjwDP3Zk"
   },
   "source": [
    "# TASK #8: TRAIN AND EVALUATE A RANDOM FOREST CLASSIFIER"
   ]
  },
  {
   "cell_type": "code",
   "execution_count": null,
   "metadata": {
    "id": "A9CInUwvP9nF"
   },
   "outputs": [],
   "source": [
    "from sklearn.ensemble import RandomForestClassifier\n",
    "\n",
    "model = RandomForestClassifier()\n",
    "model.fit(X_train, y_train)"
   ]
  },
  {
   "cell_type": "code",
   "execution_count": 60,
   "metadata": {
    "id": "X5x0CZkgQSsY"
   },
   "outputs": [],
   "source": [
    "y_pred = model.predict(X_test)"
   ]
  },
  {
   "cell_type": "code",
   "execution_count": null,
   "metadata": {
    "id": "_uEjeW4-QU36"
   },
   "outputs": [],
   "source": [
    "# Testing Set Performance\n",
    "cm = confusion_matrix(y_pred, y_test)\n",
    "\n",
    "sns.heatmap(cm, annot= True)"
   ]
  },
  {
   "cell_type": "code",
   "execution_count": null,
   "metadata": {
    "id": "Puv35JH6QxFt"
   },
   "outputs": [],
   "source": [
    "print(classification_report(y_test, y_pred))"
   ]
  },
  {
   "cell_type": "code",
   "execution_count": null,
   "metadata": {},
   "outputs": [],
   "source": []
  },
  {
   "cell_type": "markdown",
   "metadata": {
    "id": "53qDZFRn3-S1"
   },
   "source": [
    "# TASK #9: TRAIN AND EVALUATE A DEEP LEARNING MODEL"
   ]
  },
  {
   "cell_type": "code",
   "execution_count": null,
   "metadata": {},
   "outputs": [],
   "source": [
    "! pip install tensorflow"
   ]
  },
  {
   "cell_type": "code",
   "execution_count": 64,
   "metadata": {
    "id": "cilnKfMv1wP1"
   },
   "outputs": [],
   "source": [
    "import tensorflow as tf"
   ]
  },
  {
   "cell_type": "code",
   "execution_count": null,
   "metadata": {
    "id": "Yl6fmPJj3cCX"
   },
   "outputs": [],
   "source": [
    "model = tf.keras.models.Sequential()\n",
    "model.add(tf.keras.layers.Dense(units=500, activation='relu', input_shape=(44, )))\n",
    "model.add(tf.keras.layers.Dense(units=500, activation='relu'))\n",
    "model.add(tf.keras.layers.Dense(units=500, activation='relu'))\n",
    "model.add(tf.keras.layers.Dense(units=1, activation='sigmoid'))\n"
   ]
  },
  {
   "cell_type": "code",
   "execution_count": null,
   "metadata": {
    "id": "GUd71odB4v-i"
   },
   "outputs": [],
   "source": [
    "model.summary()"
   ]
  },
  {
   "cell_type": "code",
   "execution_count": 67,
   "metadata": {
    "id": "BYmvNpNw5Act"
   },
   "outputs": [],
   "source": [
    "model.compile(optimizer = 'Adam', loss = 'binary_crossentropy', metrics= ['accuracy'])"
   ]
  },
  {
   "cell_type": "code",
   "execution_count": null,
   "metadata": {},
   "outputs": [],
   "source": [
    "epochs_hist = model.fit(X_train, y_train, epochs = 100, batch_size = 44 )"
   ]
  },
  {
   "cell_type": "code",
   "execution_count": null,
   "metadata": {
    "id": "tpia0VBS5Ljw"
   },
   "outputs": [],
   "source": [
    "# oversampler = SMOTE(random_state=0)\n",
    "# smote_train, smote_target = oversampler.fit_sample(X_train, y_train)\n",
    "# epochs_hist = model.fit(smote_train, smote_target, epochs = 100, batch_size = 50)\n",
    "y_pred = model.predict(X_test)\n",
    "y_pred = (y_pred > 0.5)\n"
   ]
  },
  {
   "cell_type": "code",
   "execution_count": null,
   "metadata": {
    "id": "dS0rE8aoUO05"
   },
   "outputs": [],
   "source": [
    "epochs_hist.history.keys()\n"
   ]
  },
  {
   "cell_type": "code",
   "execution_count": null,
   "metadata": {
    "id": "k4PYwm6R25r6"
   },
   "outputs": [],
   "source": [
    "plt.plot(epochs_hist.history['loss'])\n",
    "plt.title('Model Loss Progress During Training')\n",
    "plt.xlabel('Epoch')\n",
    "plt.ylabel('Training Loss')\n",
    "plt.legend(['Training Loss'])"
   ]
  },
  {
   "cell_type": "code",
   "execution_count": null,
   "metadata": {
    "id": "AfQ5pPAS3CQF"
   },
   "outputs": [],
   "source": [
    "plt.plot(epochs_hist.history['accuracy'])\n",
    "plt.title('Model Accuracy Progress During Training')\n",
    "plt.xlabel('Epoch')\n",
    "plt.ylabel('Training Accuracy')\n",
    "plt.legend(['Training Accuracy'])"
   ]
  },
  {
   "cell_type": "code",
   "execution_count": null,
   "metadata": {
    "id": "eXiDop_l5erJ"
   },
   "outputs": [],
   "source": [
    "# Testing Set Performance\n",
    "cm = confusion_matrix(y_test, y_pred)\n",
    "sns.heatmap(cm, annot=True)\n"
   ]
  },
  {
   "cell_type": "code",
   "execution_count": null,
   "metadata": {
    "id": "aJ3ZbRjwa_HK"
   },
   "outputs": [],
   "source": [
    "print(classification_report(y_test, y_pred))"
   ]
  },
  {
   "cell_type": "code",
   "execution_count": 75,
   "metadata": {
    "id": "xaWcKcA73Rpa"
   },
   "outputs": [],
   "source": [
    "# Testing Set Performance\n",
    "\n"
   ]
  },
  {
   "cell_type": "code",
   "execution_count": null,
   "metadata": {
    "id": "NyBQWXNn3pN9"
   },
   "outputs": [],
   "source": []
  },
  {
   "cell_type": "markdown",
   "metadata": {
    "id": "27OgYEJu9EFV"
   },
   "source": [
    "# EXCELLENT JOB! YOU SHOULD BE PROUD OF YOUR NEWLY ACQUIRED SKILLS"
   ]
  }
 ],
 "metadata": {
  "colab": {
   "provenance": []
  },
  "kernelspec": {
   "display_name": "Python 3",
   "language": "python",
   "name": "python3"
  },
  "language_info": {
   "codemirror_mode": {
    "name": "ipython",
    "version": 3
   },
   "file_extension": ".py",
   "mimetype": "text/x-python",
   "name": "python",
   "nbconvert_exporter": "python",
   "pygments_lexer": "ipython3",
   "version": "3.11.10"
  }
 },
 "nbformat": 4,
 "nbformat_minor": 1
}
