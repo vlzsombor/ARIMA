{
 "cells": [
  {
   "cell_type": "markdown",
   "metadata": {
    "papermill": {
     "duration": 0.012295,
     "end_time": "2020-11-24T15:33:44.585418",
     "exception": false,
     "start_time": "2020-11-24T15:33:44.573123",
     "status": "completed"
    },
    "tags": []
   },
   "source": [
    "# Simple MNIST NN from scratch\n",
    "\n",
    "In this notebook, I implemented a simple two-layer neural network and trained it on the MNIST digit recognizer dataset. It's meant to be an instructional example, through which you can understand the underlying math of neural networks better.\n",
    "\n",
    "Here's a video I made explaining all the math and showing my progress as I coded the network: https://youtu.be/w8yWXqWQYmU"
   ]
  },
  {
   "cell_type": "code",
   "execution_count": 25,
   "metadata": {},
   "outputs": [],
   "source": [
    "path = 'digit-recognizer/train.csv'"
   ]
  },
  {
   "cell_type": "code",
   "execution_count": 26,
   "metadata": {
    "_cell_guid": "b1076dfc-b9ad-4769-8c92-a6c4dae69d19",
    "_uuid": "8f2839f25d086af736a60e9eeb907d3b93b6e0e5",
    "execution": {
     "iopub.execute_input": "2020-11-24T15:33:44.617819Z",
     "iopub.status.busy": "2020-11-24T15:33:44.616734Z",
     "iopub.status.idle": "2020-11-24T15:33:48.545917Z",
     "shell.execute_reply": "2020-11-24T15:33:48.545192Z"
    },
    "papermill": {
     "duration": 3.947576,
     "end_time": "2020-11-24T15:33:48.546057",
     "exception": false,
     "start_time": "2020-11-24T15:33:44.598481",
     "status": "completed"
    },
    "tags": []
   },
   "outputs": [],
   "source": [
    "import numpy as np\n",
    "import pandas as pd\n",
    "from matplotlib import pyplot as plt\n",
    "\n",
    "data = pd.read_csv(path)"
   ]
  },
  {
   "cell_type": "code",
   "execution_count": 27,
   "metadata": {
    "execution": {
     "iopub.execute_input": "2020-11-24T15:33:48.577955Z",
     "iopub.status.busy": "2020-11-24T15:33:48.576778Z",
     "iopub.status.idle": "2020-11-24T15:33:49.353469Z",
     "shell.execute_reply": "2020-11-24T15:33:49.352724Z"
    },
    "papermill": {
     "duration": 0.795759,
     "end_time": "2020-11-24T15:33:49.353603",
     "exception": false,
     "start_time": "2020-11-24T15:33:48.557844",
     "status": "completed"
    },
    "tags": []
   },
   "outputs": [],
   "source": [
    "data = np.array(data)\n",
    "m, n = data.shape\n",
    "# np.random.shuffle(data) # shuffle before splitting into dev and training sets\n",
    "\n",
    "data_dev = data[0:1000].T\n",
    "Y_dev = data_dev[0]\n",
    "X_dev = data_dev[1:n]\n",
    "X_dev = X_dev / 255.\n",
    "\n",
    "data_train = data[1000:m].T\n",
    "Y_train = data_train[0]\n",
    "X_train = data_train[1:n]\n",
    "X_train = X_train / 255.\n",
    "_,m_train = X_train.shape"
   ]
  },
  {
   "cell_type": "code",
   "execution_count": 28,
   "metadata": {
    "execution": {
     "iopub.execute_input": "2020-11-24T15:33:49.385574Z",
     "iopub.status.busy": "2020-11-24T15:33:49.384483Z",
     "iopub.status.idle": "2020-11-24T15:33:49.388342Z",
     "shell.execute_reply": "2020-11-24T15:33:49.388923Z"
    },
    "papermill": {
     "duration": 0.023743,
     "end_time": "2020-11-24T15:33:49.389054",
     "exception": false,
     "start_time": "2020-11-24T15:33:49.365311",
     "status": "completed"
    },
    "tags": []
   },
   "outputs": [
    {
     "data": {
      "text/plain": [
       "array([1, 5, 1, ..., 7, 6, 9])"
      ]
     },
     "execution_count": 28,
     "metadata": {},
     "output_type": "execute_result"
    }
   ],
   "source": [
    "Y_train"
   ]
  },
  {
   "cell_type": "markdown",
   "metadata": {
    "papermill": {
     "duration": 0.011724,
     "end_time": "2020-11-24T15:33:49.413261",
     "exception": false,
     "start_time": "2020-11-24T15:33:49.401537",
     "status": "completed"
    },
    "tags": []
   },
   "source": [
    "Our NN will have a simple two-layer architecture. Input layer $a^{[0]}$ will have 784 units corresponding to the 784 pixels in each 28x28 input image. A hidden layer $a^{[1]}$ will have 10 units with ReLU activation, and finally our output layer $a^{[2]}$ will have 10 units corresponding to the ten digit classes with softmax activation.\n",
    "\n",
    "**Forward propagation**\n",
    "\n",
    "$$Z^{[1]} = W^{[1]} X + b^{[1]}$$\n",
    "$$A^{[1]} = g_{\\text{ReLU}}(Z^{[1]}))$$\n",
    "$$Z^{[2]} = W^{[2]} A^{[1]} + b^{[2]}$$\n",
    "$$A^{[2]} = g_{\\text{softmax}}(Z^{[2]})$$\n",
    "\n",
    "**Backward propagation**\n",
    "\n",
    "$$dZ^{[2]} = A^{[2]} - Y$$\n",
    "$$dW^{[2]} = \\frac{1}{m} dZ^{[2]} A^{[1]T}$$\n",
    "$$dB^{[2]} = \\frac{1}{m} \\Sigma {dZ^{[2]}}$$\n",
    "$$dZ^{[1]} = W^{[2]T} dZ^{[2]} .* g^{[1]\\prime} (z^{[1]})$$\n",
    "$$dW^{[1]} = \\frac{1}{m} dZ^{[1]} A^{[0]T}$$\n",
    "$$dB^{[1]} = \\frac{1}{m} \\Sigma {dZ^{[1]}}$$\n",
    "\n",
    "**Parameter updates**\n",
    "\n",
    "$$W^{[2]} := W^{[2]} - \\alpha dW^{[2]}$$\n",
    "$$b^{[2]} := b^{[2]} - \\alpha db^{[2]}$$\n",
    "$$W^{[1]} := W^{[1]} - \\alpha dW^{[1]}$$\n",
    "$$b^{[1]} := b^{[1]} - \\alpha db^{[1]}$$\n",
    "\n",
    "**Vars and shapes**\n",
    "\n",
    "Forward prop\n",
    "\n",
    "- $A^{[0]} = X$: 784 x m\n",
    "- $Z^{[1]} \\sim A^{[1]}$: 10 x m\n",
    "- $W^{[1]}$: 10 x 784 (as $W^{[1]} A^{[0]} \\sim Z^{[1]}$)\n",
    "- $B^{[1]}$: 10 x 1\n",
    "- $Z^{[2]} \\sim A^{[2]}$: 10 x m\n",
    "- $W^{[1]}$: 10 x 10 (as $W^{[2]} A^{[1]} \\sim Z^{[2]}$)\n",
    "- $B^{[2]}$: 10 x 1\n",
    "\n",
    "Backprop\n",
    "\n",
    "- $dZ^{[2]}$: 10 x m ($~A^{[2]}$)\n",
    "- $dW^{[2]}$: 10 x 10\n",
    "- $dB^{[2]}$: 10 x 1\n",
    "- $dZ^{[1]}$: 10 x m ($~A^{[1]}$)\n",
    "- $dW^{[1]}$: 10 x 10\n",
    "- $dB^{[1]}$: 10 x 1"
   ]
  },
  {
   "cell_type": "code",
   "execution_count": 29,
   "metadata": {
    "execution": {
     "iopub.execute_input": "2020-11-24T15:33:49.458553Z",
     "iopub.status.busy": "2020-11-24T15:33:49.457534Z",
     "iopub.status.idle": "2020-11-24T15:33:49.460243Z",
     "shell.execute_reply": "2020-11-24T15:33:49.460754Z"
    },
    "papermill": {
     "duration": 0.035762,
     "end_time": "2020-11-24T15:33:49.460906",
     "exception": false,
     "start_time": "2020-11-24T15:33:49.425144",
     "status": "completed"
    },
    "tags": []
   },
   "outputs": [],
   "source": [
    "def init_params():\n",
    "    W1 = np.random.rand(10, 784) - 0.5\n",
    "    b1 = np.random.rand(10, 1) - 0.5\n",
    "    W2 = np.random.rand(10, 10) - 0.5\n",
    "    b2 = np.random.rand(10, 1) - 0.5\n",
    "    return W1, b1, W2, b2\n",
    "\n",
    "def ReLU(Z):\n",
    "    return np.maximum(Z, 0)\n",
    "\n",
    "def softmax(Z):\n",
    "    res2 = sum(np.exp(Z))\n",
    "    A = np.exp(Z) / res2\n",
    "    return A\n",
    "    \n",
    "def forward_prop(W1, b1, W2, b2, X):\n",
    "    Z1 = W1.dot(X) + b1\n",
    "    A1 = ReLU(Z1) \n",
    "    Z2 = W2.dot(A1) + b2\n",
    "    A2 = softmax(Z2)\n",
    "    return Z1, A1, Z2, A2\n",
    "\n",
    "def ReLU_deriv(Z):\n",
    "    return Z > 0\n",
    "\n",
    "def one_hot(Y):\n",
    "    one_hot_Y = np.zeros((Y.size, Y.max() + 1))\n",
    "    one_hot_Y[np.arange(Y.size), Y] = 1\n",
    "    one_hot_Y = one_hot_Y.T\n",
    "    return one_hot_Y\n",
    "\n",
    "def backward_prop(Z1, A1, Z2, A2, W1, W2, X, Y):\n",
    "    one_hot_Y = one_hot(Y)\n",
    "    dZ2 = A2 - one_hot_Y\n",
    "    dW2 = 1 / m * dZ2.dot(A1.T)\n",
    "    db2 = 1 / m * np.sum(dZ2)\n",
    "    dZ1 = W2.T.dot(dZ2) * ReLU_deriv(Z1)\n",
    "    dW1 = 1 / m * dZ1.dot(X.T)\n",
    "    db1 = 1 / m * np.sum(dZ1)\n",
    "    return dW1, db1, dW2, db2\n",
    "\n",
    "def update_params(W1, b1, W2, b2, dW1, db1, dW2, db2, alpha):\n",
    "    W1n = W1 - alpha * dW1\n",
    "    b1n = b1 - alpha * db1    \n",
    "    W2n = W2 - alpha * dW2  \n",
    "    b2n = b2 - alpha * db2    \n",
    "    return W1n, b1n, W2n, b2n"
   ]
  },
  {
   "cell_type": "code",
   "execution_count": 30,
   "metadata": {},
   "outputs": [
    {
     "data": {
      "text/plain": [
       "array([[ 10,  20,  30,  40,  50,  60,  70,  80,  90],\n",
       "       [ 26,  52,  78, 104, 130, 156, 182, 208, 234],\n",
       "       [ 42,  84, 126, 168, 210, 252, 294, 336, 378]])"
      ]
     },
     "execution_count": 30,
     "metadata": {},
     "output_type": "execute_result"
    }
   ],
   "source": [
    "wp=np.array([[1,2,3,4],[5,6,7,8],[9,10,11,12]])\n",
    "xp = np.array([[1,2,3,4,5,6,7,8,9],[1,2,3,4,5,6,7,8,9],[1,2,3,4,5,6,7,8,9],[1,2,3,4,5,6,7,8,9]])\n",
    "\n",
    "wp.dot(xp)"
   ]
  },
  {
   "cell_type": "code",
   "execution_count": 31,
   "metadata": {},
   "outputs": [
    {
     "data": {
      "text/plain": [
       "array([[ 1,  2,  3,  4],\n",
       "       [ 5,  6,  7,  8],\n",
       "       [ 9, 10, 11, 12]])"
      ]
     },
     "execution_count": 31,
     "metadata": {},
     "output_type": "execute_result"
    }
   ],
   "source": [
    "wp"
   ]
  },
  {
   "cell_type": "code",
   "execution_count": 32,
   "metadata": {},
   "outputs": [
    {
     "data": {
      "text/plain": [
       "array([[1, 2, 3, 4, 5, 6, 7, 8, 9],\n",
       "       [1, 2, 3, 4, 5, 6, 7, 8, 9],\n",
       "       [1, 2, 3, 4, 5, 6, 7, 8, 9],\n",
       "       [1, 2, 3, 4, 5, 6, 7, 8, 9]])"
      ]
     },
     "execution_count": 32,
     "metadata": {},
     "output_type": "execute_result"
    }
   ],
   "source": [
    "xp"
   ]
  },
  {
   "cell_type": "code",
   "execution_count": null,
   "metadata": {},
   "outputs": [],
   "source": []
  },
  {
   "cell_type": "code",
   "execution_count": 33,
   "metadata": {},
   "outputs": [
    {
     "data": {
      "text/plain": [
       "array([[1, 1, 1, 1],\n",
       "       [2, 2, 2, 2],\n",
       "       [3, 3, 3, 3],\n",
       "       [4, 4, 4, 4],\n",
       "       [5, 5, 5, 5],\n",
       "       [6, 6, 6, 6],\n",
       "       [7, 7, 7, 7],\n",
       "       [8, 8, 8, 8],\n",
       "       [9, 9, 9, 9]])"
      ]
     },
     "execution_count": 33,
     "metadata": {},
     "output_type": "execute_result"
    }
   ],
   "source": [
    "np.array([[1,2,3,4,5,6,7,8,9],[1,2,3,4,5,6,7,8,9],[1,2,3,4,5,6,7,8,9],[1,2,3,4,5,6,7,8,9]]).T"
   ]
  },
  {
   "cell_type": "code",
   "execution_count": 34,
   "metadata": {},
   "outputs": [
    {
     "data": {
      "text/plain": [
       "array([[ 1,  2,  3],\n",
       "       [ 4,  5,  6],\n",
       "       [ 7,  8,  9],\n",
       "       [10, 11, 12]])"
      ]
     },
     "execution_count": 34,
     "metadata": {},
     "output_type": "execute_result"
    }
   ],
   "source": [
    "np.array([[1,2,3],[4,5,6],[7,8,9],[10,11,12]])"
   ]
  },
  {
   "cell_type": "code",
   "execution_count": null,
   "metadata": {},
   "outputs": [],
   "source": []
  },
  {
   "cell_type": "code",
   "execution_count": null,
   "metadata": {},
   "outputs": [],
   "source": []
  },
  {
   "cell_type": "code",
   "execution_count": 35,
   "metadata": {
    "execution": {
     "iopub.execute_input": "2020-11-24T15:33:49.496820Z",
     "iopub.status.busy": "2020-11-24T15:33:49.493109Z",
     "iopub.status.idle": "2020-11-24T15:33:49.499268Z",
     "shell.execute_reply": "2020-11-24T15:33:49.499782Z"
    },
    "papermill": {
     "duration": 0.026744,
     "end_time": "2020-11-24T15:33:49.499906",
     "exception": false,
     "start_time": "2020-11-24T15:33:49.473162",
     "status": "completed"
    },
    "tags": []
   },
   "outputs": [],
   "source": [
    "def get_predictions(A2):\n",
    "    return np.argmax(A2, 0)\n",
    "\n",
    "def get_accuracy(predictions, Y):\n",
    "    print(predictions, Y)\n",
    "    return np.sum(predictions == Y) / Y.size\n",
    "\n",
    "def gradient_descent(X, Y, alpha, iterations):\n",
    "    W1, b1, W2, b2 = init_params()\n",
    "    for i in range(iterations):\n",
    "        Z1, A1, Z2, A2 = forward_prop(W1, b1, W2, b2, X)\n",
    "        dW1, db1, dW2, db2 = backward_prop(Z1, A1, Z2, A2, W1, W2, X, Y)\n",
    "        W1, b1, W2, b2 = update_params(W1, b1, W2, b2, dW1, db1, dW2, db2, alpha)\n",
    "        if i % 10 == 0:\n",
    "            print(\"Iteration: \", i)\n",
    "            predictions = get_predictions(A2)\n",
    "            print(get_accuracy(predictions, Y))\n",
    "    return W1, b1, W2, b2"
   ]
  },
  {
   "cell_type": "code",
   "execution_count": 36,
   "metadata": {},
   "outputs": [
    {
     "data": {
      "text/plain": [
       "array([8, 2, 3, 5])"
      ]
     },
     "execution_count": 36,
     "metadata": {},
     "output_type": "execute_result"
    }
   ],
   "source": [
    "Y_train[34:38]"
   ]
  },
  {
   "cell_type": "code",
   "execution_count": 37,
   "metadata": {},
   "outputs": [
    {
     "name": "stdout",
     "output_type": "stream",
     "text": [
      "('hello', 24)\n",
      "<class 'numpy.ndarray'>\n",
      "<class 'numpy.ndarray'>\n",
      "(array([[-0.17715804, -0.22148063,  0.08854561, ..., -0.36074293,\n",
      "        -0.47565777, -0.05529431],\n",
      "       [-0.15865529, -0.39164037, -0.09889734, ...,  0.45772737,\n",
      "         0.34834944,  0.35960573],\n",
      "       [-0.33361779, -0.04526535, -0.16390942, ...,  0.25234686,\n",
      "        -0.22599092,  0.03360233],\n",
      "       ...,\n",
      "       [ 0.3050287 ,  0.09176153, -0.35335506, ..., -0.13876366,\n",
      "         0.29352598,  0.11802381],\n",
      "       [-0.35484435, -0.11067   , -0.10404043, ...,  0.26397058,\n",
      "         0.40353327,  0.29838699],\n",
      "       [-0.04422675, -0.23172722, -0.23232606, ...,  0.27572503,\n",
      "         0.49876902,  0.42319289]]), array([[-0.35019821],\n",
      "       [ 0.45901006],\n",
      "       [-0.05924877],\n",
      "       [-0.36391337],\n",
      "       [-0.40042924],\n",
      "       [ 0.0314168 ],\n",
      "       [ 0.01356551],\n",
      "       [-0.22513812],\n",
      "       [-0.17515729],\n",
      "       [-0.23368318]]), array([[-0.20155344, -0.28894781, -0.00884896,  0.30717434, -0.00727558,\n",
      "        -0.16362149,  0.07781971, -0.27805915, -0.27965978, -0.48817297],\n",
      "       [-0.42525642, -0.1041443 , -0.36629413,  0.05957098,  0.3410569 ,\n",
      "         0.18065485,  0.48944228,  0.19178133, -0.31546467, -0.13850549],\n",
      "       [-0.09227546, -0.39185172,  0.14960502,  0.14095173,  0.39965002,\n",
      "        -0.21982724,  0.22744297, -0.14711657,  0.0744182 ,  0.24934097],\n",
      "       [ 0.18811788,  0.16021508, -0.2930624 , -0.15388373, -0.39899945,\n",
      "         0.02806345, -0.10891375,  0.44217849, -0.0157299 , -0.36470534],\n",
      "       [ 0.3676734 ,  0.02849321, -0.37974686,  0.12973671,  0.02685659,\n",
      "         0.4684285 ,  0.34414023,  0.13774373, -0.31447797, -0.34458281],\n",
      "       [ 0.30439791, -0.0625353 ,  0.1005351 , -0.24712401, -0.24139911,\n",
      "         0.12700846,  0.21402936, -0.38109241,  0.47186026, -0.48019242],\n",
      "       [-0.04073806, -0.16049124,  0.27721985,  0.32522964, -0.31828167,\n",
      "        -0.02930937,  0.2872523 ,  0.12198338,  0.18454595, -0.29555395],\n",
      "       [-0.05849411, -0.42017321, -0.22300785, -0.15596602, -0.36499472,\n",
      "         0.44825982, -0.45496785, -0.40455772,  0.31869975,  0.21468824],\n",
      "       [ 0.18438153, -0.03122466, -0.32870266, -0.49384275, -0.15122617,\n",
      "         0.13743167, -0.31908591, -0.14051216, -0.04325832, -0.44653804],\n",
      "       [-0.18956967, -0.35083753, -0.11830255, -0.20639837,  0.33940681,\n",
      "        -0.07225063,  0.27852302, -0.10129251, -0.13797889, -0.07818838]]), array([[-0.3053652 ],\n",
      "       [-0.4409712 ],\n",
      "       [ 0.0471816 ],\n",
      "       [ 0.24203599],\n",
      "       [ 0.428403  ],\n",
      "       [-0.29071281],\n",
      "       [-0.28049639],\n",
      "       [ 0.30867955],\n",
      "       [-0.21853002],\n",
      "       [-0.11083807]]))\n"
     ]
    }
   ],
   "source": [
    "def a() -> tuple[str, int]:\n",
    "\n",
    "    return \"hello\",24\n",
    "\n",
    "\n",
    "\n",
    "print(a())\n",
    "\n",
    "\n",
    "print(type(init_params()[0]))\n",
    "print(type(init_params()[1]))\n",
    "print(init_params())"
   ]
  },
  {
   "cell_type": "code",
   "execution_count": 38,
   "metadata": {},
   "outputs": [
    {
     "data": {
      "text/plain": [
       "array([[ 0.40239192, -0.43550881],\n",
       "       [ 0.48681603,  0.16505921],\n",
       "       [ 0.22489536, -0.27534859]])"
      ]
     },
     "execution_count": 38,
     "metadata": {},
     "output_type": "execute_result"
    }
   ],
   "source": [
    "np.random.rand(3, 2) - 0.5"
   ]
  },
  {
   "cell_type": "code",
   "execution_count": null,
   "metadata": {},
   "outputs": [],
   "source": []
  },
  {
   "cell_type": "code",
   "execution_count": 40,
   "metadata": {
    "execution": {
     "iopub.execute_input": "2020-11-24T15:33:49.529813Z",
     "iopub.status.busy": "2020-11-24T15:33:49.529067Z",
     "iopub.status.idle": "2020-11-24T15:34:33.915250Z",
     "shell.execute_reply": "2020-11-24T15:34:33.914598Z"
    },
    "papermill": {
     "duration": 44.403186,
     "end_time": "2020-11-24T15:34:33.915380",
     "exception": false,
     "start_time": "2020-11-24T15:33:49.512194",
     "status": "completed"
    },
    "tags": []
   },
   "outputs": [
    {
     "name": "stdout",
     "output_type": "stream",
     "text": [
      "Iteration:  0\n",
      "[0 0 0 ... 8 1 4] [1 5 1 ... 7 6 9]\n",
      "0.1155609756097561\n",
      "Iteration:  10\n",
      "[1 0 1 ... 8 1 4] [1 5 1 ... 7 6 9]\n",
      "0.21617073170731707\n",
      "Iteration:  20\n",
      "[1 0 1 ... 0 1 4] [1 5 1 ... 7 6 9]\n",
      "0.27495121951219514\n",
      "Iteration:  30\n",
      "[1 0 1 ... 0 1 4] [1 5 1 ... 7 6 9]\n",
      "0.31009756097560975\n",
      "Iteration:  40\n",
      "[1 8 1 ... 7 1 4] [1 5 1 ... 7 6 9]\n",
      "0.3474634146341463\n",
      "Iteration:  50\n",
      "[1 8 1 ... 7 6 4] [1 5 1 ... 7 6 9]\n",
      "0.3789268292682927\n",
      "Iteration:  60\n",
      "[1 8 1 ... 7 6 4] [1 5 1 ... 7 6 9]\n",
      "0.4155121951219512\n",
      "Iteration:  70\n",
      "[1 8 1 ... 7 6 4] [1 5 1 ... 7 6 9]\n",
      "0.44546341463414635\n",
      "Iteration:  80\n",
      "[1 8 1 ... 7 6 4] [1 5 1 ... 7 6 9]\n",
      "0.4703414634146341\n",
      "Iteration:  90\n",
      "[1 8 1 ... 7 6 4] [1 5 1 ... 7 6 9]\n",
      "0.49617073170731707\n",
      "Iteration:  100\n",
      "[1 8 1 ... 7 6 4] [1 5 1 ... 7 6 9]\n",
      "0.5208048780487805\n",
      "Iteration:  110\n",
      "[1 8 1 ... 7 6 4] [1 5 1 ... 7 6 9]\n",
      "0.5465121951219513\n",
      "Iteration:  120\n",
      "[1 8 1 ... 7 6 4] [1 5 1 ... 7 6 9]\n",
      "0.5704878048780487\n",
      "Iteration:  130\n",
      "[1 8 1 ... 7 6 4] [1 5 1 ... 7 6 9]\n",
      "0.5919024390243902\n",
      "Iteration:  140\n",
      "[1 8 1 ... 7 6 4] [1 5 1 ... 7 6 9]\n",
      "0.611\n",
      "Iteration:  150\n",
      "[1 8 1 ... 7 6 4] [1 5 1 ... 7 6 9]\n",
      "0.6276341463414634\n",
      "Iteration:  160\n",
      "[1 8 1 ... 7 6 4] [1 5 1 ... 7 6 9]\n",
      "0.6448780487804878\n",
      "Iteration:  170\n",
      "[1 8 1 ... 7 6 4] [1 5 1 ... 7 6 9]\n",
      "0.6619268292682927\n",
      "Iteration:  180\n",
      "[1 8 1 ... 7 6 4] [1 5 1 ... 7 6 9]\n",
      "0.6767317073170732\n",
      "Iteration:  190\n",
      "[1 5 1 ... 7 6 4] [1 5 1 ... 7 6 9]\n",
      "0.6913170731707317\n",
      "Iteration:  200\n",
      "[1 5 1 ... 7 6 4] [1 5 1 ... 7 6 9]\n",
      "0.7046585365853658\n",
      "Iteration:  210\n",
      "[1 5 1 ... 7 6 4] [1 5 1 ... 7 6 9]\n",
      "0.7158048780487805\n",
      "Iteration:  220\n",
      "[1 5 1 ... 7 6 4] [1 5 1 ... 7 6 9]\n",
      "0.7252195121951219\n",
      "Iteration:  230\n",
      "[1 5 1 ... 7 6 9] [1 5 1 ... 7 6 9]\n",
      "0.7338780487804878\n",
      "Iteration:  240\n",
      "[1 5 1 ... 7 6 9] [1 5 1 ... 7 6 9]\n",
      "0.7429268292682927\n",
      "Iteration:  250\n",
      "[1 5 1 ... 7 6 9] [1 5 1 ... 7 6 9]\n",
      "0.7504390243902439\n",
      "Iteration:  260\n",
      "[1 5 1 ... 7 6 9] [1 5 1 ... 7 6 9]\n",
      "0.7568048780487805\n",
      "Iteration:  270\n",
      "[1 5 1 ... 7 6 9] [1 5 1 ... 7 6 9]\n",
      "0.7640487804878049\n",
      "Iteration:  280\n",
      "[1 5 1 ... 7 6 9] [1 5 1 ... 7 6 9]\n",
      "0.7710487804878049\n",
      "Iteration:  290\n",
      "[1 5 1 ... 7 6 9] [1 5 1 ... 7 6 9]\n",
      "0.7770975609756098\n",
      "Iteration:  300\n",
      "[1 5 1 ... 7 6 9] [1 5 1 ... 7 6 9]\n",
      "0.7839268292682927\n",
      "Iteration:  310\n",
      "[1 5 1 ... 7 6 9] [1 5 1 ... 7 6 9]\n",
      "0.79\n",
      "Iteration:  320\n",
      "[1 5 1 ... 7 6 9] [1 5 1 ... 7 6 9]\n",
      "0.7948780487804878\n",
      "Iteration:  330\n",
      "[1 5 1 ... 7 6 9] [1 5 1 ... 7 6 9]\n",
      "0.7996585365853659\n",
      "Iteration:  340\n",
      "[1 5 1 ... 7 6 9] [1 5 1 ... 7 6 9]\n",
      "0.8039024390243903\n",
      "Iteration:  350\n",
      "[1 5 1 ... 7 6 9] [1 5 1 ... 7 6 9]\n",
      "0.8078536585365854\n",
      "Iteration:  360\n",
      "[1 5 1 ... 7 6 9] [1 5 1 ... 7 6 9]\n",
      "0.8121707317073171\n",
      "Iteration:  370\n",
      "[1 5 1 ... 7 6 9] [1 5 1 ... 7 6 9]\n",
      "0.815780487804878\n",
      "Iteration:  380\n",
      "[1 5 1 ... 7 6 9] [1 5 1 ... 7 6 9]\n",
      "0.8192682926829268\n",
      "Iteration:  390\n",
      "[1 5 1 ... 7 6 9] [1 5 1 ... 7 6 9]\n",
      "0.8223414634146341\n",
      "Iteration:  400\n",
      "[1 5 1 ... 7 6 9] [1 5 1 ... 7 6 9]\n",
      "0.8251463414634146\n",
      "Iteration:  410\n",
      "[1 5 1 ... 7 6 9] [1 5 1 ... 7 6 9]\n",
      "0.8276585365853658\n",
      "Iteration:  420\n",
      "[1 5 1 ... 7 6 9] [1 5 1 ... 7 6 9]\n",
      "0.830390243902439\n",
      "Iteration:  430\n",
      "[1 5 1 ... 7 6 9] [1 5 1 ... 7 6 9]\n",
      "0.8334878048780487\n",
      "Iteration:  440\n",
      "[1 5 1 ... 7 6 9] [1 5 1 ... 7 6 9]\n",
      "0.8355121951219512\n",
      "Iteration:  450\n",
      "[1 5 1 ... 7 6 9] [1 5 1 ... 7 6 9]\n",
      "0.8376829268292683\n",
      "Iteration:  460\n",
      "[1 5 1 ... 7 6 9] [1 5 1 ... 7 6 9]\n",
      "0.8395121951219512\n",
      "Iteration:  470\n",
      "[1 5 1 ... 7 6 9] [1 5 1 ... 7 6 9]\n",
      "0.8416829268292683\n",
      "Iteration:  480\n",
      "[1 5 1 ... 7 6 9] [1 5 1 ... 7 6 9]\n",
      "0.8436341463414634\n",
      "Iteration:  490\n",
      "[1 5 1 ... 7 6 9] [1 5 1 ... 7 6 9]\n",
      "0.8454878048780488\n"
     ]
    }
   ],
   "source": [
    "W1, b1, W2, b2 = gradient_descent(X_train, Y_train, 0.10, 500)"
   ]
  },
  {
   "cell_type": "markdown",
   "metadata": {
    "papermill": {
     "duration": 0.03222,
     "end_time": "2020-11-24T15:34:33.980634",
     "exception": false,
     "start_time": "2020-11-24T15:34:33.948414",
     "status": "completed"
    },
    "tags": []
   },
   "source": [
    "~85% accuracy on training set."
   ]
  },
  {
   "cell_type": "code",
   "execution_count": 16,
   "metadata": {
    "execution": {
     "iopub.execute_input": "2020-11-24T15:34:34.058947Z",
     "iopub.status.busy": "2020-11-24T15:34:34.058192Z",
     "iopub.status.idle": "2020-11-24T15:34:34.061542Z",
     "shell.execute_reply": "2020-11-24T15:34:34.060921Z"
    },
    "papermill": {
     "duration": 0.048197,
     "end_time": "2020-11-24T15:34:34.061656",
     "exception": false,
     "start_time": "2020-11-24T15:34:34.013459",
     "status": "completed"
    },
    "tags": []
   },
   "outputs": [],
   "source": [
    "def make_predictions(X, W1, b1, W2, b2):\n",
    "    _, _, _, A2 = forward_prop(W1, b1, W2, b2, X)\n",
    "    predictions = get_predictions(A2)\n",
    "    return predictions\n",
    "\n",
    "\n",
    "# def forward_prop(W1, b1, W2, b2, X):\n",
    "#     Z1 = W1.dot(X) + b1\n",
    "#     A1 = ReLU(Z1) \n",
    "#     Z2 = W2.dot(A1) + b2\n",
    "#     A2 = softmax(Z2)\n",
    "#     return Z1, A1, Z2, A2\n",
    "\n",
    "def test_prediction(index, W1, b1, W2, b2):\n",
    "    current_image = X_train[:, index, None]\n",
    "    prediction = make_predictions(X_train[:, index, None], W1, b1, W2, b2)\n",
    "    label = Y_train[index]\n",
    "    print(\"Prediction: \", prediction)\n",
    "    print(\"Label: \", label)\n",
    "    \n",
    "    current_image = current_image.reshape((28, 28)) * 255\n",
    "    plt.gray()\n",
    "    plt.imshow(current_image, interpolation='nearest')\n",
    "    plt.show()"
   ]
  },
  {
   "cell_type": "code",
   "execution_count": 17,
   "metadata": {},
   "outputs": [
    {
     "name": "stdout",
     "output_type": "stream",
     "text": [
      "(10, 784) (10, 1) (10, 10) (10, 1)\n"
     ]
    }
   ],
   "source": [
    "print(W1.shape, b1.shape, W2.shape, b2.shape)"
   ]
  },
  {
   "cell_type": "code",
   "execution_count": null,
   "metadata": {},
   "outputs": [],
   "source": []
  },
  {
   "cell_type": "code",
   "execution_count": null,
   "metadata": {},
   "outputs": [],
   "source": []
  },
  {
   "cell_type": "markdown",
   "metadata": {
    "papermill": {
     "duration": 0.032382,
     "end_time": "2020-11-24T15:34:34.126664",
     "exception": false,
     "start_time": "2020-11-24T15:34:34.094282",
     "status": "completed"
    },
    "tags": []
   },
   "source": [
    "Let's look at a couple of examples:"
   ]
  },
  {
   "cell_type": "code",
   "execution_count": 18,
   "metadata": {
    "execution": {
     "iopub.execute_input": "2020-11-24T15:34:34.198764Z",
     "iopub.status.busy": "2020-11-24T15:34:34.197926Z",
     "iopub.status.idle": "2020-11-24T15:34:34.858256Z",
     "shell.execute_reply": "2020-11-24T15:34:34.857536Z"
    },
    "papermill": {
     "duration": 0.699008,
     "end_time": "2020-11-24T15:34:34.858375",
     "exception": false,
     "start_time": "2020-11-24T15:34:34.159367",
     "status": "completed"
    },
    "tags": []
   },
   "outputs": [
    {
     "name": "stdout",
     "output_type": "stream",
     "text": [
      "Prediction:  [1]\n",
      "Label:  1\n"
     ]
    },
    {
     "data": {
      "image/png": "[encoded data removed]",
      "text/plain": [
       "<Figure size 640x480 with 1 Axes>"
      ]
     },
     "metadata": {},
     "output_type": "display_data"
    },
    {
     "name": "stdout",
     "output_type": "stream",
     "text": [
      "Prediction:  [4]\n",
      "Label:  5\n"
     ]
    },
    {
     "data": {
      "image/png": "[encoded data removed]",
      "text/plain": [
       "<Figure size 640x480 with 1 Axes>"
      ]
     },
     "metadata": {},
     "output_type": "display_data"
    },
    {
     "name": "stdout",
     "output_type": "stream",
     "text": [
      "Prediction:  [1]\n",
      "Label:  1\n"
     ]
    },
    {
     "data": {
      "image/png": "[encoded data removed]",
      "text/plain": [
       "<Figure size 640x480 with 1 Axes>"
      ]
     },
     "metadata": {},
     "output_type": "display_data"
    },
    {
     "name": "stdout",
     "output_type": "stream",
     "text": [
      "Prediction:  [7]\n",
      "Label:  7\n"
     ]
    },
    {
     "data": {
      "image/png": "[encoded data removed]",
      "text/plain": [
       "<Figure size 640x480 with 1 Axes>"
      ]
     },
     "metadata": {},
     "output_type": "display_data"
    }
   ],
   "source": [
    "test_prediction(0, W1, b1, W2, b2)\n",
    "test_prediction(1, W1, b1, W2, b2)\n",
    "test_prediction(2, W1, b1, W2, b2)\n",
    "test_prediction(3, W1, b1, W2, b2)"
   ]
  },
  {
   "cell_type": "code",
   "execution_count": 19,
   "metadata": {},
   "outputs": [
    {
     "data": {
      "text/plain": [
       "array([[1.18374978],\n",
       "       [1.27605178],\n",
       "       [0.49939252],\n",
       "       [1.41936579],\n",
       "       [1.41900547],\n",
       "       [1.44848988],\n",
       "       [0.90647326],\n",
       "       [0.569988  ],\n",
       "       [1.4100646 ],\n",
       "       [1.20564428]])"
      ]
     },
     "execution_count": 19,
     "metadata": {},
     "output_type": "execute_result"
    }
   ],
   "source": [
    "\n",
    "b1"
   ]
  },
  {
   "cell_type": "code",
   "execution_count": null,
   "metadata": {},
   "outputs": [],
   "source": []
  },
  {
   "cell_type": "code",
   "execution_count": null,
   "metadata": {},
   "outputs": [],
   "source": []
  },
  {
   "cell_type": "markdown",
   "metadata": {
    "papermill": {
     "duration": 0.037333,
     "end_time": "2020-11-24T15:34:34.933186",
     "exception": false,
     "start_time": "2020-11-24T15:34:34.895853",
     "status": "completed"
    },
    "tags": []
   },
   "source": [
    "Finally, let's find the accuracy on the dev set:"
   ]
  },
  {
   "cell_type": "code",
   "execution_count": 20,
   "metadata": {
    "execution": {
     "iopub.execute_input": "2020-11-24T15:34:35.013161Z",
     "iopub.status.busy": "2020-11-24T15:34:35.012371Z",
     "iopub.status.idle": "2020-11-24T15:34:35.033284Z",
     "shell.execute_reply": "2020-11-24T15:34:35.032394Z"
    },
    "papermill": {
     "duration": 0.062985,
     "end_time": "2020-11-24T15:34:35.033457",
     "exception": false,
     "start_time": "2020-11-24T15:34:34.970472",
     "status": "completed"
    },
    "tags": []
   },
   "outputs": [
    {
     "name": "stdout",
     "output_type": "stream",
     "text": [
      "[1 0 1 2 0 0 7 9 5 3 8 9 1 3 3 1 8 0 7 6 8 6 2 0 2 3 6 9 9 7 8 9 4 9 6 1 3\n",
      " 1 1 4 3 1 4 9 2 6 5 7 7 4 7 5 1 9 0 1 2 3 4 1 1 8 9 0 6 3 4 4 1 0 3 9 6 2\n",
      " 1 4 7 1 4 1 5 4 8 9 2 5 9 5 9 4 3 6 4 6 9 7 1 2 0 5 9 2 9 7 8 8 8 5 0 6 0\n",
      " 0 2 9 0 9 7 7 1 5 7 9 4 4 1 6 7 6 5 0 4 7 2 8 1 1 7 3 7 2 1 0 3 4 5 4 0 8\n",
      " 4 5 3 5 1 0 8 3 7 0 9 6 6 9 8 9 1 9 8 3 4 2 4 8 7 9 5 8 8 8 3 6 9 3 1 0 4\n",
      " 1 5 9 0 6 2 4 9 0 6 0 0 8 3 2 0 0 6 0 0 4 7 3 7 1 9 3 3 9 8 7 1 5 1 3 8 1\n",
      " 8 7 1 3 7 6 3 6 3 6 3 2 3 6 2 9 9 2 2 2 7 3 4 8 9 2 0 1 4 9 6 3 9 1 1 1 4\n",
      " 7 0 2 9 2 0 5 6 0 8 9 6 2 0 0 7 2 0 4 2 0 9 1 6 9 3 0 0 2 0 6 8 4 0 7 2 1\n",
      " 9 5 2 4 8 5 2 9 7 9 2 4 9 4 9 3 6 9 3 6 3 6 8 8 3 7 0 9 2 7 9 0 5 4 5 8 4\n",
      " 3 3 1 7 8 9 7 6 2 1 7 0 5 6 5 3 9 0 4 6 6 2 2 9 0 7 7 1 2 6 3 4 8 0 5 9 6\n",
      " 2 1 9 0 6 0 4 3 4 3 1 5 4 2 9 5 7 3 1 5 4 5 3 7 3 8 6 4 4 6 1 1 4 0 0 5 8\n",
      " 6 7 4 2 8 0 2 5 4 8 3 0 4 4 8 6 4 1 8 1 5 4 7 4 3 2 0 6 0 7 9 2 9 2 9 6 4\n",
      " 2 4 4 6 4 8 4 1 7 3 8 4 5 9 9 7 5 8 2 2 2 2 8 9 1 9 3 6 0 2 2 9 1 2 7 2 1\n",
      " 3 4 9 1 8 0 2 2 3 4 1 3 9 4 1 4 1 5 8 6 9 0 5 9 4 8 2 0 7 3 5 8 2 8 2 4 5\n",
      " 9 8 7 7 1 2 4 5 5 1 8 1 9 9 6 5 8 9 2 3 0 3 1 4 0 5 1 2 9 2 0 1 6 8 0 4 9\n",
      " 0 0 5 9 8 3 5 9 4 4 3 9 8 8 8 6 5 2 4 2 4 2 9 1 2 6 3 9 6 1 0 9 5 4 5 1 6\n",
      " 9 7 1 6 3 3 1 2 2 0 3 0 6 3 3 6 1 7 3 8 1 7 9 3 9 6 8 3 7 4 3 2 3 6 1 0 1\n",
      " 8 6 9 1 1 6 0 2 8 0 8 8 7 1 2 7 1 4 3 1 4 2 8 1 8 9 7 7 7 0 6 4 4 5 6 2 5\n",
      " 7 4 9 2 3 0 8 4 8 0 0 9 7 6 9 5 2 1 6 5 5 1 1 9 1 7 8 6 4 7 5 3 1 6 4 3 7\n",
      " 4 1 8 8 5 1 7 1 1 8 6 4 3 9 3 1 2 8 9 0 9 1 8 8 3 0 3 0 2 0 3 8 6 3 5 7 0\n",
      " 5 9 0 5 9 1 8 1 1 2 6 5 5 4 5 1 6 0 2 2 8 0 7 1 0 8 5 2 3 2 9 4 3 6 0 3 4\n",
      " 1 0 7 3 0 6 0 6 2 7 6 4 6 7 6 7 8 2 0 6 0 8 0 6 3 6 7 4 2 9 7 7 0 4 7 2 2\n",
      " 5 2 7 0 4 0 5 5 8 7 7 9 1 4 0 1 1 2 3 6 2 0 6 6 1 9 4 5 2 7 7 8 9 8 8 3 8\n",
      " 5 6 2 0 9 7 1 8 6 6 9 8 4 4 4 1 3 9 4 0 7 7 3 7 6 6 8 8 2 7 0 4 3 8 7 0 8\n",
      " 4 7 4 0 0 9 8 6 6 8 6 4 5 2 7 3 6 2 2 9 2 7 4 8 7 2 4 8 3 4 7 0 4 9 2 5 0\n",
      " 1 2 2 3 4 5 7 5 0 5 6 9 1 7 7 2 6 3 9 9 1 0 4 2 6 4 4 9 2 6 7 2 3 3 3 2 7\n",
      " 0 4 7 0 7 7 8 1 7 3 7 8 0 1 0 2 9 7 6 2 2 6 9 0 6 8 5 8 6 3 5 0 0 2 5 9 6\n",
      " 4] [1 0 1 4 0 0 7 3 5 3 8 9 1 3 3 1 2 0 7 5 8 6 2 0 2 3 6 9 9 7 8 9 4 9 2 1 3\n",
      " 1 1 4 9 1 4 4 2 6 3 7 7 4 7 5 1 9 0 2 2 3 9 1 1 1 5 0 6 3 4 8 1 0 3 9 6 2\n",
      " 6 4 7 1 4 1 5 4 8 9 2 9 9 8 9 6 3 6 4 6 2 9 1 2 0 5 9 2 7 7 2 8 8 5 0 6 0\n",
      " 0 2 9 0 4 7 7 1 5 7 9 4 6 1 5 7 6 5 0 4 8 7 6 1 8 7 3 7 3 1 0 3 4 5 4 0 5\n",
      " 4 0 3 5 1 0 8 3 7 0 9 6 6 9 5 4 6 9 3 5 4 2 4 8 7 7 5 8 8 8 2 6 9 3 1 0 4\n",
      " 1 5 9 0 6 2 1 3 0 6 0 0 8 3 2 0 0 6 0 0 4 7 2 7 1 9 9 3 9 8 4 6 6 5 3 8 1\n",
      " 8 7 1 3 7 6 3 6 3 6 3 2 3 2 2 7 9 2 3 2 7 5 5 8 8 2 0 1 4 0 6 3 7 1 1 1 4\n",
      " 7 0 2 9 2 0 5 6 0 8 9 6 2 0 0 7 2 0 4 2 0 9 1 6 9 3 0 0 2 0 6 8 4 0 7 2 1\n",
      " 9 5 2 4 8 5 2 9 7 9 2 9 7 4 9 3 2 7 3 6 3 6 8 8 3 7 0 9 2 7 9 0 5 4 5 8 4\n",
      " 3 3 1 7 8 9 7 6 2 1 7 0 5 6 5 2 9 5 4 6 2 2 2 9 0 7 7 2 2 6 3 4 2 0 5 9 6\n",
      " 2 1 9 0 6 0 4 8 4 3 1 5 4 2 9 5 7 3 1 5 4 5 3 7 3 8 6 2 4 6 1 1 4 0 0 5 8\n",
      " 6 7 4 2 8 0 2 5 4 8 3 0 6 4 8 6 4 1 8 1 5 4 9 4 3 2 0 5 0 7 9 2 9 8 9 6 5\n",
      " 2 4 4 6 4 8 4 1 7 5 8 9 5 9 3 2 5 8 2 2 7 2 8 4 1 9 3 6 0 2 2 9 1 2 7 2 1\n",
      " 3 4 9 1 8 0 2 2 3 4 1 3 7 4 1 4 1 5 9 6 9 0 5 7 6 8 2 0 7 3 5 8 2 8 2 4 8\n",
      " 5 8 9 7 1 2 4 5 5 1 8 1 4 4 6 5 8 9 2 3 0 5 1 4 0 5 1 2 9 2 4 1 6 8 0 4 9\n",
      " 0 0 5 9 2 3 5 9 4 4 3 9 2 3 5 6 5 2 7 2 4 2 4 7 2 5 3 7 6 1 0 7 5 4 5 1 6\n",
      " 9 7 1 6 3 3 1 2 2 0 5 0 6 8 3 6 7 7 3 8 1 7 9 3 9 2 8 3 7 4 1 2 3 6 5 0 1\n",
      " 8 6 9 2 1 6 0 2 8 0 8 8 9 1 2 2 1 4 8 1 4 4 5 1 8 7 7 9 7 0 6 9 4 5 6 2 5\n",
      " 7 4 7 2 3 0 8 4 8 0 0 9 7 7 9 8 2 1 6 5 5 1 1 9 7 7 8 6 4 7 5 3 1 6 4 5 7\n",
      " 4 1 8 3 5 1 7 1 1 8 6 4 3 8 3 1 2 8 9 0 9 1 2 3 3 0 3 0 2 0 3 3 8 3 5 7 0\n",
      " 5 9 0 5 9 1 5 1 1 2 6 5 5 4 5 1 6 0 2 2 8 0 7 1 0 8 5 6 3 2 9 4 3 6 0 3 4\n",
      " 1 5 9 3 0 5 0 6 2 7 6 6 6 9 6 7 8 2 0 6 0 8 9 5 3 6 7 4 3 9 7 2 0 4 7 2 2\n",
      " 8 2 7 0 4 0 5 2 8 7 7 9 1 4 0 1 1 2 3 6 2 0 6 6 1 9 4 5 2 7 7 8 9 5 8 3 8\n",
      " 5 6 2 0 9 7 1 8 2 6 9 8 4 9 4 1 3 8 4 0 7 7 3 7 6 6 8 8 2 7 0 4 3 7 7 0 8\n",
      " 4 7 4 0 6 9 8 6 0 1 6 4 5 2 7 3 6 2 2 9 2 7 4 8 7 2 9 5 3 4 8 0 4 4 6 5 6\n",
      " 1 2 2 8 4 5 7 8 0 6 8 9 1 7 7 2 6 3 9 9 1 0 4 2 5 4 4 9 2 6 7 2 8 3 3 2 7\n",
      " 0 4 7 0 7 7 8 1 7 3 7 8 0 1 0 2 9 7 6 2 2 6 9 0 6 8 8 9 6 3 5 0 2 2 5 9 6\n",
      " 4]\n"
     ]
    },
    {
     "data": {
      "text/plain": [
       "0.841"
      ]
     },
     "execution_count": 20,
     "metadata": {},
     "output_type": "execute_result"
    }
   ],
   "source": [
    "dev_predictions = make_predictions(X_dev, W1, b1, W2, b2)\n",
    "get_accuracy(dev_predictions, Y_dev)"
   ]
  },
  {
   "cell_type": "markdown",
   "metadata": {
    "papermill": {
     "duration": 0.038287,
     "end_time": "2020-11-24T15:34:35.112466",
     "exception": false,
     "start_time": "2020-11-24T15:34:35.074179",
     "status": "completed"
    },
    "tags": []
   },
   "source": [
    "Still 84% accuracy, so our model generalized from the training data pretty well."
   ]
  }
 ],
 "metadata": {
  "kernelspec": {
   "display_name": "Python 3",
   "language": "python",
   "name": "python3"
  },
  "language_info": {
   "codemirror_mode": {
    "name": "ipython",
    "version": 3
   },
   "file_extension": ".py",
   "mimetype": "text/x-python",
   "name": "python",
   "nbconvert_exporter": "python",
   "pygments_lexer": "ipython3",
   "version": "3.11.10"
  },
  "papermill": {
   "duration": 55.320944,
   "end_time": "2020-11-24T15:34:35.258832",
   "environment_variables": {},
   "exception": null,
   "input_path": "__notebook__.ipynb",
   "output_path": "__notebook__.ipynb",
   "parameters": {},
   "start_time": "2020-11-24T15:33:39.937888",
   "version": "2.1.0"
  }
 },
 "nbformat": 4,
 "nbformat_minor": 4
}
